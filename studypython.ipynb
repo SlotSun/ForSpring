{
 "cells": [
  {
   "cell_type": "code",
   "execution_count": 1,
   "metadata": {
    "ExecuteTime": {
     "end_time": "2023-11-08T18:32:28.869971100Z",
     "start_time": "2023-11-08T18:32:28.864086Z"
    },
    "collapsed": true
   },
   "outputs": [
    {
     "name": "stdout",
     "output_type": "stream",
     "text": [
      "Fatemeh\n"
     ]
    }
   ],
   "source": [
    "print(\"Fatemeh\")"
   ]
  },
  {
   "cell_type": "code",
   "execution_count": 1,
   "metadata": {
    "ExecuteTime": {
     "end_time": "2023-11-09T14:33:13.248056900Z",
     "start_time": "2023-11-09T14:33:13.243051600Z"
    },
    "collapsed": false
   },
   "outputs": [
    {
     "name": "stdout",
     "output_type": "stream",
     "text": [
      "false\n"
     ]
    }
   ],
   "source": [
    "a = False #Bool\n",
    "if a:\n",
    "    print(\"True\")\n",
    "else:\n",
    "    print(\"false\")"
   ]
  },
  {
   "cell_type": "code",
   "execution_count": 3,
   "metadata": {
    "ExecuteTime": {
     "end_time": "2023-11-09T14:35:20.094224300Z",
     "start_time": "2023-11-09T14:35:20.090229700Z"
    },
    "collapsed": false
   },
   "outputs": [
    {
     "name": "stdout",
     "output_type": "stream",
     "text": [
      "Fatemeh\n"
     ]
    }
   ],
   "source": [
    "# { = shift+[\n",
    "dict = {'name1': \"Slot\", \"name2\": \"Fatemeh\"}\n",
    "print(dict[\"name2\"])"
   ]
  },
  {
   "cell_type": "code",
   "execution_count": 6,
   "metadata": {
    "ExecuteTime": {
     "end_time": "2023-11-09T14:44:36.933132800Z",
     "start_time": "2023-11-09T14:44:36.499447400Z"
    },
    "collapsed": false
   },
   "outputs": [
    {
     "name": "stdout",
     "output_type": "stream",
     "text": [
      "Fatemeh\n",
      "Slot\n"
     ]
    },
    {
     "ename": "IndexError",
     "evalue": "list index out of range",
     "output_type": "error",
     "traceback": [
      "\u001b[1;31m---------------------------------------------------------------------------\u001b[0m",
      "\u001b[1;31mIndexError\u001b[0m                                Traceback (most recent call last)",
      "Cell \u001b[1;32mIn[6], line 6\u001b[0m\n\u001b[0;32m      4\u001b[0m \u001b[38;5;28mprint\u001b[39m(list_name[\u001b[38;5;241m0\u001b[39m])\n\u001b[0;32m      5\u001b[0m \u001b[38;5;28mprint\u001b[39m(list_name[\u001b[38;5;241m1\u001b[39m])\n\u001b[1;32m----> 6\u001b[0m \u001b[38;5;28mprint\u001b[39m(\u001b[43mlist_name\u001b[49m\u001b[43m[\u001b[49m\u001b[38;5;241;43m2\u001b[39;49m\u001b[43m]\u001b[49m)\n",
      "\u001b[1;31mIndexError\u001b[0m: list index out of range"
     ]
    }
   ],
   "source": [
    "f = 1.333 #float\n",
    "i = 1 # int\n",
    "# list of int\n",
    "list_int =  [1,2,3,4,5]\n",
    "# list of string\n",
    "list_name = [\"Fatemeh\",\"Slot\"]\n",
    "print(list_name[0])\n",
    "print(list_name[1])\n",
    "print(list_name[2])"
   ]
  },
  {
   "cell_type": "code",
   "execution_count": 8,
   "metadata": {
    "ExecuteTime": {
     "end_time": "2023-11-09T14:49:46.317162500Z",
     "start_time": "2023-11-09T14:49:46.300147Z"
    },
    "collapsed": false
   },
   "outputs": [
    {
     "name": "stdout",
     "output_type": "stream",
     "text": [
      "range(-1, 10)\n"
     ]
    }
   ],
   "source": [
    "range(-1, 10)\n",
    "# -1 0 1 - 9 == 11\n",
    "print(range(-1, 10)) #for"
   ]
  },
  {
   "cell_type": "code",
   "execution_count": 9,
   "metadata": {
    "ExecuteTime": {
     "end_time": "2023-11-09T14:52:25.626243Z",
     "start_time": "2023-11-09T14:52:25.615226500Z"
    },
    "collapsed": false
   },
   "outputs": [
    {
     "name": "stdout",
     "output_type": "stream",
     "text": [
      "slot\n"
     ]
    }
   ],
   "source": [
    "#shift + , = \"\n",
    "str = \"slot\"\n",
    "print(str)"
   ]
  },
  {
   "cell_type": "code",
   "execution_count": 10,
   "metadata": {
    "ExecuteTime": {
     "end_time": "2023-11-09T14:59:50.547344600Z",
     "start_time": "2023-11-09T14:59:50.536334900Z"
    },
    "collapsed": false
   },
   "outputs": [
    {
     "name": "stdout",
     "output_type": "stream",
     "text": [
      "4.0\n"
     ]
    }
   ],
   "source": [
    "# + - * /\n",
    "# (5+10-7)*2/4\n",
    "res = (5+10-7)*2/4\n",
    "print(res)"
   ]
  },
  {
   "cell_type": "code",
   "execution_count": 12,
   "metadata": {
    "ExecuteTime": {
     "end_time": "2023-11-09T15:07:48.205468900Z",
     "start_time": "2023-11-09T15:07:48.192453800Z"
    },
    "collapsed": false
   },
   "outputs": [
    {
     "name": "stdout",
     "output_type": "stream",
     "text": [
      "1\n"
     ]
    }
   ],
   "source": [
    "# modulo operation % = shift+5\n",
    "res = 7%2\n",
    "# 取余\n",
    "# 5%2 = 2 ...1 => 2x2+1=5\n",
    "print(res)\n",
    "# (20+10-6)*2/4%7 = ？ and print(? is type)"
   ]
  },
  {
   "cell_type": "code",
   "execution_count": 14,
   "metadata": {
    "ExecuteTime": {
     "end_time": "2023-11-09T15:25:53.996813300Z",
     "start_time": "2023-11-09T15:25:53.989807Z"
    },
    "collapsed": false
   },
   "outputs": [
    {
     "name": "stdout",
     "output_type": "stream",
     "text": [
      "81\n"
     ]
    }
   ],
   "source": [
    "#sqrt == 2x2x2x2 = 2^4 = 16 ** ==^\n",
    "res = 3**4\n",
    "print(res)"
   ]
  },
  {
   "cell_type": "code",
   "execution_count": 19,
   "metadata": {
    "ExecuteTime": {
     "end_time": "2023-11-09T15:36:35.148026800Z",
     "start_time": "2023-11-09T15:36:35.140006800Z"
    },
    "collapsed": false
   },
   "outputs": [
    {
     "name": "stdout",
     "output_type": "stream",
     "text": [
      "True\n"
     ]
    }
   ],
   "source": [
    "#2>1  1<2  3 == 3 2==2\n",
    "# a = 2 => a's value is 2\n",
    "# a == 2 => a equals 2 is True\n",
    "a = 2\n",
    "# a_equals_res = a==3 # a==3 is False\n",
    "# a_equals_res = a>2 # is False\n",
    "# a_equals_res = a<2 # is False\n",
    "a_equals_res = a==2 # is True\n",
    "print(a_equals_res)"
   ]
  },
  {
   "cell_type": "code",
   "execution_count": 23,
   "metadata": {
    "ExecuteTime": {
     "end_time": "2023-11-09T15:51:36.148462400Z",
     "start_time": "2023-11-09T15:51:36.135450500Z"
    },
    "collapsed": false
   },
   "outputs": [
    {
     "name": "stdout",
     "output_type": "stream",
     "text": [
      "False\n"
     ]
    }
   ],
   "source": [
    "# 与 and  或 or  非 not\n",
    "# True and True == True False and True = False False and False = False\n",
    "# True or True == True  False or True = True False or False = False\n",
    "# True not True == False  False not True = True  False not False = False\n",
    "# 1: a == 2 b == 3\n",
    "a = 2\n",
    "b = 3\n",
    "# if a == 2 and b == 3:\n",
    "#     print(\"True\")\n",
    "# else:\n",
    "#     print(\"False\")\n",
    "\n",
    "# if a == 2 or b == 3:\n",
    "#     print(\"True\")\n",
    "# else:\n",
    "#     print(\"False\")\n",
    "# shift+1\n",
    "#fool\n",
    "if a != 2 and b!=3 :\n",
    "    print(\"True\")\n",
    "else:\n",
    "    print(\"False\")\n",
    "# Binary number 01 == 1 next -> 10 == 2 next: 11 == 3 next 100 == 4\n",
    "# 二进制 0 or 1 pc:2 == 0010  0x2^3+0x2^2+1x2^1+0x2^0 == 2"
   ]
  },
  {
   "cell_type": "code",
   "execution_count": null,
   "metadata": {},
   "outputs": [],
   "source": [
    "# 1:sum = 1+..+100\n",
    "# \n",
    "# 2:is_equal = two == two\n",
    "#   is_false = is_equal is (?)\n",
    "#   is_true = is_false is (?)\n"
   ]
  }
 ],
 "metadata": {
  "kernelspec": {
   "display_name": "Python 3",
   "language": "python",
   "name": "python3"
  },
  "language_info": {
   "codemirror_mode": {
    "name": "ipython",
    "version": 2
   },
   "file_extension": ".py",
   "mimetype": "text/x-python",
   "name": "python",
   "nbconvert_exporter": "python",
   "pygments_lexer": "ipython2",
   "version": "2.7.6"
  }
 },
 "nbformat": 4,
 "nbformat_minor": 0
}
